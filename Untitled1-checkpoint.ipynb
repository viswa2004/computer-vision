{
 "cells": [
  {
   "cell_type": "code",
   "execution_count": 1,
   "id": "d7e41727",
   "metadata": {},
   "outputs": [],
   "source": [
    "import cv2\n",
    "import numpy as np"
   ]
  },
  {
   "cell_type": "markdown",
   "id": "f35c58bc",
   "metadata": {},
   "source": [
    "# Reading image\n"
   ]
  },
  {
   "cell_type": "code",
   "execution_count": 2,
   "id": "0ab35be6",
   "metadata": {},
   "outputs": [],
   "source": [
    "img = cv2.imread('DOG.jpg')"
   ]
  },
  {
   "cell_type": "markdown",
   "id": "cddcfa4b",
   "metadata": {},
   "source": [
    "# structuring element or Kernal"
   ]
  },
  {
   "cell_type": "code",
   "execution_count": 3,
   "id": "5e7b4c20",
   "metadata": {},
   "outputs": [],
   "source": [
    "kernel = np.ones((3,3),np.uint8)"
   ]
  },
  {
   "cell_type": "markdown",
   "id": "0ad3aafe",
   "metadata": {},
   "source": [
    "# Erosion"
   ]
  },
  {
   "cell_type": "code",
   "execution_count": 4,
   "id": "50188716",
   "metadata": {},
   "outputs": [],
   "source": [
    "erosion = cv2.erode(img,kernel,iterations=7)\n"
   ]
  },
  {
   "cell_type": "markdown",
   "id": "1b7009d4",
   "metadata": {},
   "source": [
    "# Display - Erosion"
   ]
  },
  {
   "cell_type": "code",
   "execution_count": null,
   "id": "d6c7cada",
   "metadata": {},
   "outputs": [],
   "source": [
    "cv2.imshow('Orginal img',img)\n",
    "cv2.imshow('EROSION', erosion)\n",
    "cv2.waitKey(0)\n",
    "cv2.destroyAllWindows()\n"
   ]
  },
  {
   "cell_type": "markdown",
   "id": "444499a6",
   "metadata": {},
   "source": [
    "# Dilation"
   ]
  },
  {
   "cell_type": "code",
   "execution_count": null,
   "id": "196aa347",
   "metadata": {},
   "outputs": [],
   "source": [
    "dil= cv2.dilate(img,kernel,iterations=7)\n"
   ]
  },
  {
   "cell_type": "code",
   "execution_count": null,
   "id": "5588c83b",
   "metadata": {},
   "outputs": [],
   "source": [
    "cv2.imshow('Erosion',dil)\n",
    "cv2.imshow('ORGINAL', img)\n",
    "cv2.waitKey(0)\n",
    "cv2.destroyAllWindows()"
   ]
  },
  {
   "cell_type": "code",
   "execution_count": null,
   "id": "0548f98a",
   "metadata": {},
   "outputs": [],
   "source": []
  }
 ],
 "metadata": {
  "kernelspec": {
   "display_name": "Python 3 (ipykernel)",
   "language": "python",
   "name": "python3"
  },
  "language_info": {
   "codemirror_mode": {
    "name": "ipython",
    "version": 3
   },
   "file_extension": ".py",
   "mimetype": "text/x-python",
   "name": "python",
   "nbconvert_exporter": "python",
   "pygments_lexer": "ipython3",
   "version": "3.9.16"
  }
 },
 "nbformat": 4,
 "nbformat_minor": 5
}
