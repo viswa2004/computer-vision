{
 "cells": [
  {
   "cell_type": "code",
   "execution_count": 11,
   "id": "7defb398",
   "metadata": {},
   "outputs": [],
   "source": [
    "import cv2"
   ]
  },
  {
   "cell_type": "code",
   "execution_count": 12,
   "id": "0f5af02e",
   "metadata": {},
   "outputs": [],
   "source": [
    "img=cv2.imread('C:/image/IPV.png')\n",
    "img1=cv2.resize(img,(312,416))"
   ]
  },
  {
   "cell_type": "code",
   "execution_count": null,
   "id": "7bae04eb",
   "metadata": {},
   "outputs": [],
   "source": [
    "cv2.imshow('ACTUAL',img)\n",
    "cv2.imshow('resized',img1)\n",
    "\n",
    "cv2.waitKey(0)\n",
    "cv2.destroyAllWindows()"
   ]
  },
  {
   "cell_type": "code",
   "execution_count": null,
   "id": "1b1a39a6",
   "metadata": {},
   "outputs": [],
   "source": [
    "ret,thresh6 = cv2.threshold(img1g,15,150,cv2.THRESH_BINARY)\n",
    "ret,thresh7 = cv2.threshold(img1g,15,255,cv2.THRESH_BINARY_INV)\n",
    "ret,thresh8 = cv2.threshold(img1g,15,255,cv2.THRESH_TRUNC)\n",
    "ret,thresh9 = cv2.threshold(img1g,15,255,cv2.THRESH_TOZERO)\n",
    "ret,thresh10 = cv2.threshold(img1g,15,255,cv2.THRESH_TOZERO_INV)"
   ]
  },
  {
   "cell_type": "code",
   "execution_count": null,
   "id": "73f33921",
   "metadata": {},
   "outputs": [],
   "source": [
    "cv2.imshow('ACTUAL',img1)\n",
    "cv2.imshow"
   ]
  }
 ],
 "metadata": {
  "kernelspec": {
   "display_name": "Python 3 (ipykernel)",
   "language": "python",
   "name": "python3"
  },
  "language_info": {
   "codemirror_mode": {
    "name": "ipython",
    "version": 3
   },
   "file_extension": ".py",
   "mimetype": "text/x-python",
   "name": "python",
   "nbconvert_exporter": "python",
   "pygments_lexer": "ipython3",
   "version": "3.9.13"
  }
 },
 "nbformat": 4,
 "nbformat_minor": 5
}
