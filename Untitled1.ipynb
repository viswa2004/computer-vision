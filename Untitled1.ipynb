{
 "cells": [
  {
   "cell_type": "code",
   "execution_count": 12,
   "id": "c54e6730",
   "metadata": {},
   "outputs": [],
   "source": [
    "import cv2"
   ]
  },
  {
   "cell_type": "code",
   "execution_count": 13,
   "id": "8630493b",
   "metadata": {},
   "outputs": [],
   "source": [
    "import numpy as np"
   ]
  },
  {
   "cell_type": "code",
   "execution_count": 14,
   "id": "6b4ebbef",
   "metadata": {},
   "outputs": [],
   "source": [
    "im=cv2.imread('C:/Users/SN156/Downloads/OIP.jpg')"
   ]
  },
  {
   "cell_type": "code",
   "execution_count": 15,
   "id": "27ce00ed",
   "metadata": {
    "scrolled": true
   },
   "outputs": [],
   "source": [
    "hp = im.shape"
   ]
  },
  {
   "cell_type": "code",
   "execution_count": 16,
   "id": "f3f086b9",
   "metadata": {},
   "outputs": [
    {
     "name": "stdout",
     "output_type": "stream",
     "text": [
      "(266, 474, 3)\n"
     ]
    }
   ],
   "source": [
    "print(hp)"
   ]
  },
  {
   "cell_type": "code",
   "execution_count": 17,
   "id": "f361a2c8",
   "metadata": {},
   "outputs": [],
   "source": [
    "sz = im.size"
   ]
  },
  {
   "cell_type": "code",
   "execution_count": 18,
   "id": "d191bb00",
   "metadata": {
    "scrolled": false
   },
   "outputs": [
    {
     "name": "stdout",
     "output_type": "stream",
     "text": [
      "378252\n"
     ]
    }
   ],
   "source": [
    "print(sz)"
   ]
  },
  {
   "cell_type": "code",
   "execution_count": 19,
   "id": "ba0a7275",
   "metadata": {},
   "outputs": [],
   "source": [
    "px = im[1,1]"
   ]
  },
  {
   "cell_type": "code",
   "execution_count": 20,
   "id": "197d70d7",
   "metadata": {},
   "outputs": [
    {
     "name": "stdout",
     "output_type": "stream",
     "text": [
      "[253 255 252]\n"
     ]
    }
   ],
   "source": [
    "print(px)"
   ]
  },
  {
   "cell_type": "code",
   "execution_count": 1,
   "id": "80f7417d",
   "metadata": {},
   "outputs": [
    {
     "ename": "NameError",
     "evalue": "name 'cv2' is not defined",
     "output_type": "error",
     "traceback": [
      "\u001b[1;31m---------------------------------------------------------------------------\u001b[0m",
      "\u001b[1;31mNameError\u001b[0m                                 Traceback (most recent call last)",
      "Cell \u001b[1;32mIn[1], line 1\u001b[0m\n\u001b[1;32m----> 1\u001b[0m b,g,r \u001b[38;5;241m=\u001b[39m \u001b[43mcv2\u001b[49m\u001b[38;5;241m.\u001b[39msplit(im)\n\u001b[0;32m      3\u001b[0m cv2\u001b[38;5;241m.\u001b[39mimshow(\u001b[38;5;124m\"\u001b[39m\u001b[38;5;124mb\u001b[39m\u001b[38;5;124m\"\u001b[39m, b)\n\u001b[0;32m      4\u001b[0m cv2\u001b[38;5;241m.\u001b[39mwaitkey(\u001b[38;5;241m0\u001b[39m)\n",
      "\u001b[1;31mNameError\u001b[0m: name 'cv2' is not defined"
     ]
    }
   ],
   "source": [
    "b,g,r = cv2.split(im)\n",
    "\n",
    "cv2.imshow(\"b\", b)\n",
    "cv2.waitkey(0)\n",
    "cv2.imshow(\"g\", g)\n",
    "cv2.waitkey(0)\n",
    "cv2.imshow(\"r\", r)\n",
    "cv2.waitkey(0)\n",
    "cv2.destroyAllwimdows()"
   ]
  },
  {
   "cell_type": "code",
   "execution_count": null,
   "id": "e31f355d",
   "metadata": {},
   "outputs": [],
   "source": []
  }
 ],
 "metadata": {
  "kernelspec": {
   "display_name": "Python 3 (ipykernel)",
   "language": "python",
   "name": "python3"
  },
  "language_info": {
   "codemirror_mode": {
    "name": "ipython",
    "version": 3
   },
   "file_extension": ".py",
   "mimetype": "text/x-python",
   "name": "python",
   "nbconvert_exporter": "python",
   "pygments_lexer": "ipython3",
   "version": "3.9.16"
  }
 },
 "nbformat": 4,
 "nbformat_minor": 5
}
