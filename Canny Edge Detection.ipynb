{
 "cells": [
  {
   "cell_type": "markdown",
   "id": "e5b88708",
   "metadata": {},
   "source": [
    "# Import librries"
   ]
  },
  {
   "cell_type": "code",
   "execution_count": 1,
   "id": "ea5172f7",
   "metadata": {},
   "outputs": [],
   "source": [
    "import cv2\n",
    "import numpy as np\n",
    "import matplotlib.pyplot as plt"
   ]
  },
  {
   "cell_type": "markdown",
   "id": "d634d7fa",
   "metadata": {},
   "source": [
    "# Importing image"
   ]
  },
  {
   "cell_type": "code",
   "execution_count": 2,
   "id": "4b85a477",
   "metadata": {},
   "outputs": [],
   "source": [
    "image = cv2.imread(\"DOG.jpg\",0)"
   ]
  },
  {
   "cell_type": "markdown",
   "id": "607fff47",
   "metadata": {},
   "source": [
    "# Canny Edge"
   ]
  },
  {
   "cell_type": "code",
   "execution_count": 11,
   "id": "c9438839",
   "metadata": {},
   "outputs": [],
   "source": [
    "Canny = cv2.Canny(image,40,200)"
   ]
  },
  {
   "cell_type": "markdown",
   "id": "cd131da3",
   "metadata": {},
   "source": [
    "# Display"
   ]
  },
  {
   "cell_type": "code",
   "execution_count": 12,
   "id": "c26d568c",
   "metadata": {},
   "outputs": [],
   "source": [
    "cv2.imshow(\"DOG.jpg\", image)\n",
    "cv2.imshow(\"CAN\", Canny)\n",
    "cv2.waitKey(0)\n",
    "cv2.destroyAllWindows()"
   ]
  },
  {
   "cell_type": "markdown",
   "id": "5d4c39c4",
   "metadata": {},
   "source": [
    "# Frame Capture"
   ]
  },
  {
   "cell_type": "code",
   "execution_count": 5,
   "id": "abfa0f26",
   "metadata": {},
   "outputs": [],
   "source": [
    "cap = cv2.VideoCapture(\"Volume2.mp4\")"
   ]
  },
  {
   "cell_type": "markdown",
   "id": "2981bd85",
   "metadata": {},
   "source": [
    "# Capturing Work Loop"
   ]
  },
  {
   "cell_type": "code",
   "execution_count": 6,
   "id": "5cf4962f",
   "metadata": {},
   "outputs": [],
   "source": [
    "while(1):\n",
    "    ret, frame = cap.read()\n",
    "    \n",
    "    gray= cv2.cvtColor(frame, cv2.COLOR_BGR2GRAY)\n",
    "    \n",
    "    #lower_red = np.array([3,150,50])\n",
    "    #upper_red = np.array([2,25,180])\n",
    "    #mask = cv2.inrange(hsv, lower_red, upper_red)\n",
    "    \n",
    "    #res = cv2.bitwise_and(frame,frame, mask= mask)\n",
    "    \n",
    "    cv2.imshow('original',frame)\n",
    "    \n",
    "    edge = cv2.Canny(frame,100,200)\n",
    "    \n",
    "    cv2.imshow('Edges',edge)\n",
    "    k = cv2.waitKey(5) & 0xFF\n",
    "    if k == 27:\n",
    "        break\n",
    "cap.release()\n",
    "cv2.destroyAllWindows()"
   ]
  },
  {
   "cell_type": "code",
   "execution_count": null,
   "id": "09bd4020",
   "metadata": {},
   "outputs": [],
   "source": []
  }
 ],
 "metadata": {
  "kernelspec": {
   "display_name": "Python 3 (ipykernel)",
   "language": "python",
   "name": "python3"
  },
  "language_info": {
   "codemirror_mode": {
    "name": "ipython",
    "version": 3
   },
   "file_extension": ".py",
   "mimetype": "text/x-python",
   "name": "python",
   "nbconvert_exporter": "python",
   "pygments_lexer": "ipython3",
   "version": "3.9.16"
  }
 },
 "nbformat": 4,
 "nbformat_minor": 5
}
