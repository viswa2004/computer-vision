{
 "cells": [
  {
   "cell_type": "markdown",
   "id": "27694782",
   "metadata": {},
   "source": [
    "# Importing Libraries"
   ]
  },
  {
   "cell_type": "code",
   "execution_count": null,
   "id": "aae5faa9",
   "metadata": {},
   "outputs": [],
   "source": [
    "pip install scikit-image"
   ]
  },
  {
   "cell_type": "code",
   "execution_count": null,
   "id": "d1d04c16",
   "metadata": {},
   "outputs": [],
   "source": [
    "#cv library\n",
    "import cv2"
   ]
  },
  {
   "cell_type": "code",
   "execution_count": null,
   "id": "fae86a65",
   "metadata": {},
   "outputs": [],
   "source": [
    "#data visualizastion library\n",
    "import matplotlib.pyplot as plt\n",
    "%matplotlib inline"
   ]
  },
  {
   "cell_type": "code",
   "execution_count": null,
   "id": "d691db63",
   "metadata": {},
   "outputs": [],
   "source": [
    "#Image processing library\n",
    "from skimage.feature import hog\n",
    "from skimage import data, exposure"
   ]
  },
  {
   "cell_type": "markdown",
   "id": "bd0ac04d",
   "metadata": {},
   "source": [
    "# Reading Image"
   ]
  },
  {
   "cell_type": "code",
   "execution_count": null,
   "id": "fdb3e2b6",
   "metadata": {},
   "outputs": [],
   "source": [
    "img=cv2.imread(\"DOG.jpg\")\n",
    "cv2.imshow(\"IMAGE\",img)\n",
    "cv2.waitKey(0)"
   ]
  },
  {
   "cell_type": "markdown",
   "id": "94e6dd9c",
   "metadata": {},
   "source": [
    "# HOG"
   ]
  },
  {
   "cell_type": "code",
   "execution_count": null,
   "id": "632b5c6f",
   "metadata": {},
   "outputs": [],
   "source": [
    "fb, hog_image = hog(img, orientations=9,pixels_per_cell=(5,5),cells_per_block=(2,2), visualize=True, channel_axis=2)"
   ]
  },
  {
   "cell_type": "markdown",
   "id": "7a26731d",
   "metadata": {},
   "source": [
    "# Rescaling"
   ]
  },
  {
   "cell_type": "code",
   "execution_count": null,
   "id": "8a7e3d3b",
   "metadata": {},
   "outputs": [],
   "source": [
    "cale = exposure.rescale_intensity(hog_image, in_range=(0,10))"
   ]
  },
  {
   "cell_type": "markdown",
   "id": "6a670f16",
   "metadata": {},
   "source": [
    "# Plot"
   ]
  },
  {
   "cell_type": "code",
   "execution_count": null,
   "id": "b59f4bb4",
   "metadata": {},
   "outputs": [],
   "source": [
    "figure, (a1, a2) = plt.subplots(1, 2, figsize=(12,6),sharex=True, sharey=True)\n",
    "\n",
    "a1.axis('off')\n",
    "a1.imshow(img)\n",
    "a1.set_title('Input img')\n",
    "\n",
    "a2.axis('off')\n",
    "a2.imshow(cale)\n",
    "a2.set_title('Histogram of orinted Gradients')\n",
    "plt.show()\n"
   ]
  },
  {
   "cell_type": "code",
   "execution_count": null,
   "id": "39919ea2",
   "metadata": {},
   "outputs": [],
   "source": [
    "pip install imutils"
   ]
  },
  {
   "cell_type": "code",
   "execution_count": 14,
   "id": "98c1b385",
   "metadata": {},
   "outputs": [
    {
     "data": {
      "text/plain": [
       "-1"
      ]
     },
     "execution_count": 14,
     "metadata": {},
     "output_type": "execute_result"
    }
   ],
   "source": [
    "import cv2\n",
    "import imutils\n",
    "\n",
    "#Initializing the HOG person\n",
    "# detector\n",
    "hog = cv2.HOGDescriptor()\n",
    "hog.setSVMDetector(cv2.HOGDescriptor_getDefaultPeopleDetector())\n",
    "\n",
    "# Reading the Image \n",
    "image = cv2.imread(\"people.jpg\")\n",
    "\n",
    "# Resizing the Image\n",
    "image = imutils.resize(image,width=min(400, image.shape[1]))\n",
    "\n",
    "# Detecting all the regions in the\n",
    "# Image that has a pedestrians inside it\n",
    "(regions, img) = hog.detectMultiScale(image,winStride=(2,2),padding=(4,4),scale=1.05)\n",
    "\n",
    "# Drawing the reagions in the Image\n",
    "for (x, y, w, h) in regions:\n",
    "     cv2.rectangle(image,(x,y),(x+w,y+h),(0,0,255),10)\n",
    "cv2.imshow(\"people\",image)\n",
    "cv2.waitKey(0)\n",
    "    \n",
    "# showing the output Image"
   ]
  },
  {
   "cell_type": "code",
   "execution_count": null,
   "id": "9a511d70",
   "metadata": {},
   "outputs": [],
   "source": []
  }
 ],
 "metadata": {
  "kernelspec": {
   "display_name": "Python 3 (ipykernel)",
   "language": "python",
   "name": "python3"
  },
  "language_info": {
   "codemirror_mode": {
    "name": "ipython",
    "version": 3
   },
   "file_extension": ".py",
   "mimetype": "text/x-python",
   "name": "python",
   "nbconvert_exporter": "python",
   "pygments_lexer": "ipython3",
   "version": "3.9.16"
  }
 },
 "nbformat": 4,
 "nbformat_minor": 5
}
