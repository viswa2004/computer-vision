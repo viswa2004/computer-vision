{
 "cells": [
  {
   "cell_type": "code",
   "execution_count": 1,
   "id": "4d2012fa",
   "metadata": {},
   "outputs": [],
   "source": [
    "import cv2\n",
    "import numpy as np"
   ]
  },
  {
   "cell_type": "code",
   "execution_count": 2,
   "id": "61d0f43c",
   "metadata": {},
   "outputs": [],
   "source": [
    "img=cv2.imread('C:/Users/PMU2022/Downloads/thers.PNG')"
   ]
  },
  {
   "cell_type": "code",
   "execution_count": 3,
   "id": "f47fa18b",
   "metadata": {},
   "outputs": [
    {
     "name": "stdout",
     "output_type": "stream",
     "text": [
      "(244, 624, 3)\n"
     ]
    }
   ],
   "source": [
    "shp=img.shape\n",
    "print(shp)"
   ]
  },
  {
   "cell_type": "code",
   "execution_count": 4,
   "id": "a2193a00",
   "metadata": {},
   "outputs": [
    {
     "name": "stdout",
     "output_type": "stream",
     "text": [
      "244\n",
      "624\n"
     ]
    }
   ],
   "source": [
    "height,width=img.shape[:2]\n",
    "print(height)\n",
    "print(width)"
   ]
  },
  {
   "cell_type": "code",
   "execution_count": 5,
   "id": "ac37ce7e",
   "metadata": {},
   "outputs": [
    {
     "name": "stdout",
     "output_type": "stream",
     "text": [
      "(122.0, 312.0)\n"
     ]
    }
   ],
   "source": [
    "center=(height/2,width/2)\n",
    "print(center)"
   ]
  },
  {
   "cell_type": "code",
   "execution_count": 6,
   "id": "32f88728",
   "metadata": {},
   "outputs": [],
   "source": [
    "img=cv2.imread('C:/Users/PMU2022/Downloads/thers.PNG')"
   ]
  },
  {
   "cell_type": "code",
   "execution_count": 7,
   "id": "bf57ea1c",
   "metadata": {},
   "outputs": [
    {
     "name": "stdout",
     "output_type": "stream",
     "text": [
      "(244, 624, 3)\n"
     ]
    }
   ],
   "source": [
    "shp=img.shape\n",
    "print(shp)"
   ]
  },
  {
   "cell_type": "markdown",
   "id": "86407355",
   "metadata": {},
   "source": [
    "\n",
    "print(height)\n",
    "print(width)"
   ]
  },
  {
   "cell_type": "code",
   "execution_count": 9,
   "id": "51d94b3e",
   "metadata": {},
   "outputs": [
    {
     "name": "stdout",
     "output_type": "stream",
     "text": [
      "(122.0, 312.0)\n"
     ]
    }
   ],
   "source": [
    "center=(height/2,width/2)\n",
    "print(center)"
   ]
  },
  {
   "cell_type": "code",
   "execution_count": 10,
   "id": "8c598ecf",
   "metadata": {},
   "outputs": [
    {
     "name": "stdout",
     "output_type": "stream",
     "text": [
      "[[-5.000000e-01  6.123234e-17  1.830000e+02]\n",
      " [-6.123234e-17 -5.000000e-01  4.680000e+02]]\n"
     ]
    }
   ],
   "source": [
    "rotation_matrix = cv2.getRotationMatrix2D(center=center,angle=180,scale=0.5)\n",
    "print(rotation_matrix)"
   ]
  },
  {
   "cell_type": "code",
   "execution_count": 11,
   "id": "3a33e86b",
   "metadata": {},
   "outputs": [
    {
     "data": {
      "text/plain": [
       "-1"
      ]
     },
     "execution_count": 11,
     "metadata": {},
     "output_type": "execute_result"
    }
   ],
   "source": [
    "rotated_image=cv2.warpAffine(src=img,M=rotation_matrix,dsize=(width,height))\n",
    "cv2.imshow('orginal',img)\n",
    "cv2.waitKey(2000)\n",
    "cv2.imshow('rotated imge',rotated_image)\n",
    "cv2.waitKey(2000)"
   ]
  },
  {
   "cell_type": "code",
   "execution_count": 12,
   "id": "7546dcdb",
   "metadata": {},
   "outputs": [
    {
     "name": "stdout",
     "output_type": "stream",
     "text": [
      "6.24\n",
      "2.44\n"
     ]
    }
   ],
   "source": [
    "tx,ty=width/100,height/100\n",
    "print(tx)\n",
    "print(ty)"
   ]
  },
  {
   "cell_type": "code",
   "execution_count": 13,
   "id": "329a0734",
   "metadata": {},
   "outputs": [],
   "source": [
    "trans_matrix=np.array([[1,0,tx],[0,1,ty]])"
   ]
  },
  {
   "cell_type": "code",
   "execution_count": 14,
   "id": "fccdb1bc",
   "metadata": {},
   "outputs": [],
   "source": [
    "translated_image=cv2.warpAffine(src=img,M=trans_matrix,dsize=(width,height))"
   ]
  },
  {
   "cell_type": "code",
   "execution_count": null,
   "id": "ac6acf23",
   "metadata": {},
   "outputs": [],
   "source": [
    "cv2.imshow('translated image',translated_image)\n",
    "cv2.waitKey(0)"
   ]
  },
  {
   "cell_type": "markdown",
   "id": "b8e10619",
   "metadata": {},
   "source": [
    "# importing libraries"
   ]
  },
  {
   "cell_type": "code",
   "execution_count": null,
   "id": "7101ae28",
   "metadata": {},
   "outputs": [],
   "source": [
    "import cv2\n",
    "import numpy as np"
   ]
  },
  {
   "cell_type": "markdown",
   "id": "508fa6a4",
   "metadata": {},
   "source": [
    "# video read"
   ]
  },
  {
   "cell_type": "code",
   "execution_count": null,
   "id": "4ae2b8f8",
   "metadata": {},
   "outputs": [],
   "source": [
    "view=cv2.VideoCapture('C:/Users/PMU2022/Downloads/Volume2.mp4')"
   ]
  },
  {
   "cell_type": "markdown",
   "id": "462a2d67",
   "metadata": {},
   "source": [
    "# displaying the video"
   ]
  },
  {
   "cell_type": "code",
   "execution_count": null,
   "id": "d5c777f6",
   "metadata": {},
   "outputs": [],
   "source": [
    "while(view.isOpened()):\n",
    "    ret,frame = view.read()\n",
    "    cv2.imshow('orign',frame)\n",
    "    if cv2.waitKey(1) & 0xFF == ord('q'):\n",
    "        break\n",
    "        \n",
    "        \n",
    "view.release()\n",
    "cv2.destroyAllWindows()"
   ]
  },
  {
   "cell_type": "markdown",
   "id": "c9b2e8f2",
   "metadata": {},
   "source": [
    "# saving video"
   ]
  },
  {
   "cell_type": "markdown",
   "id": "61c9a4ba",
   "metadata": {},
   "source": [
    "# defining code"
   ]
  },
  {
   "cell_type": "code",
   "execution_count": 2,
   "id": "9fce3b66",
   "metadata": {},
   "outputs": [
    {
     "ename": "NameError",
     "evalue": "name 'cv2' is not defined",
     "output_type": "error",
     "traceback": [
      "\u001b[1;31m---------------------------------------------------------------------------\u001b[0m",
      "\u001b[1;31mNameError\u001b[0m                                 Traceback (most recent call last)",
      "Cell \u001b[1;32mIn[2], line 1\u001b[0m\n\u001b[1;32m----> 1\u001b[0m fourcc \u001b[38;5;241m=\u001b[39m \u001b[43mcv2\u001b[49m\u001b[38;5;241m.\u001b[39mVideoWriter_fourcc(\u001b[38;5;241m*\u001b[39m\u001b[38;5;124m'\u001b[39m\u001b[38;5;124m'\u001b[39m)\n",
      "\u001b[1;31mNameError\u001b[0m: name 'cv2' is not defined"
     ]
    }
   ],
   "source": [
    "fourcc = cv2.VideoWriter_fourcc(*'')"
   ]
  },
  {
   "cell_type": "code",
   "execution_count": null,
   "id": "00662b37",
   "metadata": {},
   "outputs": [],
   "source": []
  }
 ],
 "metadata": {
  "kernelspec": {
   "display_name": "Python 3 (ipykernel)",
   "language": "python",
   "name": "python3"
  },
  "language_info": {
   "codemirror_mode": {
    "name": "ipython",
    "version": 3
   },
   "file_extension": ".py",
   "mimetype": "text/x-python",
   "name": "python",
   "nbconvert_exporter": "python",
   "pygments_lexer": "ipython3",
   "version": "3.9.16"
  }
 },
 "nbformat": 4,
 "nbformat_minor": 5
}
