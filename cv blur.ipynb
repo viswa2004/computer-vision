{
 "cells": [
  {
   "cell_type": "code",
   "execution_count": 1,
   "id": "0b609532",
   "metadata": {
    "scrolled": true
   },
   "outputs": [
    {
     "name": "stdout",
     "output_type": "stream",
     "text": [
      "Defaulting to user installation because normal site-packages is not writeable\n",
      "Requirement already satisfied: opencv-python in c:\\users\\pmu2022\\appdata\\roaming\\python\\python39\\site-packages (4.7.0.68)\n",
      "Requirement already satisfied: numpy>=1.19.3 in c:\\programdata\\anaconda3\\lib\\site-packages (from opencv-python) (1.21.5)\n",
      "Note: you may need to restart the kernel to use updated packages.\n"
     ]
    }
   ],
   "source": [
    "pip install opencv-python"
   ]
  },
  {
   "cell_type": "code",
   "execution_count": 7,
   "id": "f49e9420",
   "metadata": {
    "scrolled": false
   },
   "outputs": [],
   "source": [
    "import cv2"
   ]
  },
  {
   "cell_type": "code",
   "execution_count": 8,
   "id": "c0635f56",
   "metadata": {},
   "outputs": [],
   "source": [
    "import numpy as np"
   ]
  },
  {
   "cell_type": "code",
   "execution_count": 14,
   "id": "d6b4974d",
   "metadata": {},
   "outputs": [],
   "source": [
    "im=cv2.imread(\"C:/Users/PMU2022/Downloads/NIG.png\")"
   ]
  },
  {
   "cell_type": "code",
   "execution_count": 15,
   "id": "ef38a22e",
   "metadata": {
    "scrolled": true
   },
   "outputs": [],
   "source": [
    "hp = im.shape"
   ]
  },
  {
   "cell_type": "code",
   "execution_count": 16,
   "id": "5b725de6",
   "metadata": {},
   "outputs": [
    {
     "name": "stdout",
     "output_type": "stream",
     "text": [
      "(681, 731, 3)\n"
     ]
    }
   ],
   "source": [
    "print(hp)"
   ]
  },
  {
   "cell_type": "code",
   "execution_count": 17,
   "id": "bad38467",
   "metadata": {},
   "outputs": [],
   "source": [
    "sz = im.size"
   ]
  },
  {
   "cell_type": "code",
   "execution_count": 18,
   "id": "f7c61611",
   "metadata": {
    "scrolled": false
   },
   "outputs": [
    {
     "name": "stdout",
     "output_type": "stream",
     "text": [
      "1493433\n"
     ]
    }
   ],
   "source": [
    "print(sz)"
   ]
  },
  {
   "cell_type": "code",
   "execution_count": 19,
   "id": "a22b6f6a",
   "metadata": {},
   "outputs": [],
   "source": [
    "px = im[1,1]"
   ]
  },
  {
   "cell_type": "code",
   "execution_count": 20,
   "id": "8245b635",
   "metadata": {},
   "outputs": [
    {
     "name": "stdout",
     "output_type": "stream",
     "text": [
      "[243 241 237]\n"
     ]
    }
   ],
   "source": [
    "print(px)"
   ]
  },
  {
   "cell_type": "code",
   "execution_count": 21,
   "id": "636cfee7",
   "metadata": {},
   "outputs": [],
   "source": [
    "b,g,r = cv2.split(im)\n",
    "\n",
    "cv2.imshow(\"b\", b)\n",
    "cv2.waitKey(0)\n",
    "cv2.imshow(\"g\", g)\n",
    "cv2.waitKey(0)\n",
    "cv2.imshow(\"r\", r)\n",
    "cv2.waitKey(0)\n",
    "cv2.destroyAllWindows()"
   ]
  },
  {
   "cell_type": "code",
   "execution_count": 22,
   "id": "50cb22f3",
   "metadata": {
    "scrolled": true
   },
   "outputs": [],
   "source": [
    "med = cv2.medianBlur(im,5)"
   ]
  },
  {
   "cell_type": "code",
   "execution_count": 23,
   "id": "82b8c76a",
   "metadata": {},
   "outputs": [],
   "source": [
    "cv2.imshow(\"r\", med)\n",
    "cv2.waitKey(0)\n",
    "cv2.destroyAllWindows()"
   ]
  },
  {
   "cell_type": "code",
   "execution_count": 24,
   "id": "3928add4",
   "metadata": {},
   "outputs": [],
   "source": [
    "bilat = cv2.bilateralFilter(im,5,10,10)"
   ]
  },
  {
   "cell_type": "code",
   "execution_count": 25,
   "id": "4cf83918",
   "metadata": {},
   "outputs": [],
   "source": [
    "cv2.imshow(\"r\", med)\n",
    "cv2.waitKey(0)\n",
    "cv2.imshow(\"r\", med)\n",
    "cv2.waitKey(0)\n",
    "cv2.destroyAllWindows()"
   ]
  },
  {
   "cell_type": "code",
   "execution_count": null,
   "id": "a3152614",
   "metadata": {},
   "outputs": [],
   "source": []
  }
 ],
 "metadata": {
  "kernelspec": {
   "display_name": "Python 3 (ipykernel)",
   "language": "python",
   "name": "python3"
  },
  "language_info": {
   "codemirror_mode": {
    "name": "ipython",
    "version": 3
   },
   "file_extension": ".py",
   "mimetype": "text/x-python",
   "name": "python",
   "nbconvert_exporter": "python",
   "pygments_lexer": "ipython3",
   "version": "3.9.13"
  }
 },
 "nbformat": 4,
 "nbformat_minor": 5
}
